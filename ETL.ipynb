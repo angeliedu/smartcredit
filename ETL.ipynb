{
 "cells": [
  {
   "cell_type": "code",
   "execution_count": 1,
   "metadata": {},
   "outputs": [],
   "source": [
    "# Importing necessary libraries\n",
    "import pandas as pd\n"
   ]
  },
  {
   "cell_type": "code",
   "execution_count": 2,
   "metadata": {},
   "outputs": [
    {
     "name": "stderr",
     "output_type": "stream",
     "text": [
      "/var/folders/r6/9sr46wnj2jnbq3yrgp4bf0c80000gn/T/ipykernel_2973/3903412836.py:3: DtypeWarning: Columns (0,19,49,59,118,129,130,131,134,135,136,139,145,146,147) have mixed types. Specify dtype option on import or set low_memory=False.\n",
      "  accepted_data = pd.read_csv('/Users/eduardoangeli/Desktop/Capstone/Dataset/accepted_2007_to_2018q4.csv/accepted_2007_to_2018Q4.csv')\n"
     ]
    }
   ],
   "source": [
    "# Load datasets\n",
    "rejected_data = pd.read_csv('/Users/eduardoangeli/Desktop/Capstone/Dataset/rejected_2007_to_2018q4.csv/rejected_2007_to_2018Q4.csv')\n",
    "accepted_data = pd.read_csv('/Users/eduardoangeli/Desktop/Capstone/Dataset/accepted_2007_to_2018q4.csv/accepted_2007_to_2018Q4.csv')\n",
    "\n",
    "\n",
    "# Label datasets: 1 for accepted and 0 for rejected\n",
    "accepted_data['label'] = 1\n",
    "rejected_data['label'] = 0\n",
    "\n",
    "# Rename columns in rejected dataset to match accepted dataset\n",
    "rejected_data.rename(columns={'Amount Requested': 'loan_amnt', 'Debt-To-Income Ratio': 'dti'}, inplace=True)\n",
    "\n",
    "# Select and align columns for merging\n",
    "selected_columns = ['home_ownership', 'annual_inc', 'loan_amnt', 'dti', 'emp_length', 'label']\n",
    "for column in selected_columns:\n",
    "    if column not in rejected_data.columns:\n",
    "        rejected_data[column] = None\n",
    "\n",
    "# Merge datasets\n",
    "merged_data = pd.concat([accepted_data[selected_columns], rejected_data[selected_columns]], axis=0).reset_index(drop=True)\n",
    "\n",
    "# Handle missing values\n",
    "for column in ['home_ownership', 'emp_length']:\n",
    "    merged_data[column].fillna(merged_data[column].mode()[0], inplace=True)\n",
    "for column in ['annual_inc']:\n",
    "    merged_data[column].fillna(merged_data[column].median(), inplace=True)\n",
    "\n",
    "# Convert dti values to numerical format and handle missing values\n",
    "merged_data['dti'] = merged_data['dti'].str.rstrip('%').astype('float') / 100.0\n",
    "merged_data['dti'].fillna(merged_data['dti'].median(), inplace=True)"
   ]
  },
  {
   "cell_type": "code",
   "execution_count": null,
   "metadata": {},
   "outputs": [],
   "source": [
    "# Save the merged dataset to a CSV file\n",
    "merged_data.to_csv('/Users/eduardoangeli/Documents/GitHub/smartcredit/merged_data.csv', index=False)\n"
   ]
  }
 ],
 "metadata": {
  "kernelspec": {
   "display_name": "Python 3",
   "language": "python",
   "name": "python3"
  },
  "language_info": {
   "codemirror_mode": {
    "name": "ipython",
    "version": 3
   },
   "file_extension": ".py",
   "mimetype": "text/x-python",
   "name": "python",
   "nbconvert_exporter": "python",
   "pygments_lexer": "ipython3",
   "version": "3.10.11"
  }
 },
 "nbformat": 4,
 "nbformat_minor": 2
}
