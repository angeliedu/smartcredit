{
 "cells": [
  {
   "cell_type": "code",
   "execution_count": 9,
   "metadata": {},
   "outputs": [],
   "source": [
    "# Importing necessary libraries\n",
    "import pandas as pd\n",
    "import numpy as np\n",
    "import pickle\n",
    "from sklearn.model_selection import train_test_split\n",
    "from sklearn.preprocessing import StandardScaler\n",
    "from sklearn.linear_model import LogisticRegression\n",
    "from sklearn.metrics import mean_squared_error"
   ]
  },
  {
   "cell_type": "markdown",
   "metadata": {},
   "source": [
    "\n",
    "# 1. Data Loading and Preprocessing\n"
   ]
  },
  {
   "cell_type": "code",
   "execution_count": 10,
   "metadata": {},
   "outputs": [
    {
     "data": {
      "text/html": [
       "<div>\n",
       "<style scoped>\n",
       "    .dataframe tbody tr th:only-of-type {\n",
       "        vertical-align: middle;\n",
       "    }\n",
       "\n",
       "    .dataframe tbody tr th {\n",
       "        vertical-align: top;\n",
       "    }\n",
       "\n",
       "    .dataframe thead th {\n",
       "        text-align: right;\n",
       "    }\n",
       "</style>\n",
       "<table border=\"1\" class=\"dataframe\">\n",
       "  <thead>\n",
       "    <tr style=\"text-align: right;\">\n",
       "      <th></th>\n",
       "      <th>home_ownership</th>\n",
       "      <th>annual_inc</th>\n",
       "      <th>loan_amnt</th>\n",
       "      <th>dti</th>\n",
       "      <th>emp_length</th>\n",
       "      <th>label</th>\n",
       "    </tr>\n",
       "  </thead>\n",
       "  <tbody>\n",
       "    <tr>\n",
       "      <th>0</th>\n",
       "      <td>MORTGAGE</td>\n",
       "      <td>55000.0</td>\n",
       "      <td>3600.0</td>\n",
       "      <td>0.1998</td>\n",
       "      <td>10+ years</td>\n",
       "      <td>1</td>\n",
       "    </tr>\n",
       "    <tr>\n",
       "      <th>1</th>\n",
       "      <td>MORTGAGE</td>\n",
       "      <td>65000.0</td>\n",
       "      <td>24700.0</td>\n",
       "      <td>0.1998</td>\n",
       "      <td>10+ years</td>\n",
       "      <td>1</td>\n",
       "    </tr>\n",
       "    <tr>\n",
       "      <th>2</th>\n",
       "      <td>MORTGAGE</td>\n",
       "      <td>63000.0</td>\n",
       "      <td>20000.0</td>\n",
       "      <td>0.1998</td>\n",
       "      <td>10+ years</td>\n",
       "      <td>1</td>\n",
       "    </tr>\n",
       "    <tr>\n",
       "      <th>3</th>\n",
       "      <td>MORTGAGE</td>\n",
       "      <td>110000.0</td>\n",
       "      <td>35000.0</td>\n",
       "      <td>0.1998</td>\n",
       "      <td>10+ years</td>\n",
       "      <td>1</td>\n",
       "    </tr>\n",
       "    <tr>\n",
       "      <th>4</th>\n",
       "      <td>MORTGAGE</td>\n",
       "      <td>104433.0</td>\n",
       "      <td>10400.0</td>\n",
       "      <td>0.1998</td>\n",
       "      <td>3 years</td>\n",
       "      <td>1</td>\n",
       "    </tr>\n",
       "  </tbody>\n",
       "</table>\n",
       "</div>"
      ],
      "text/plain": [
       "  home_ownership  annual_inc  loan_amnt     dti emp_length  label\n",
       "0       MORTGAGE     55000.0     3600.0  0.1998  10+ years      1\n",
       "1       MORTGAGE     65000.0    24700.0  0.1998  10+ years      1\n",
       "2       MORTGAGE     63000.0    20000.0  0.1998  10+ years      1\n",
       "3       MORTGAGE    110000.0    35000.0  0.1998  10+ years      1\n",
       "4       MORTGAGE    104433.0    10400.0  0.1998    3 years      1"
      ]
     },
     "execution_count": 10,
     "metadata": {},
     "output_type": "execute_result"
    }
   ],
   "source": [
    "merged_data = pd.read_csv('/Users/eduardoangeli/Library/CloudStorage/OneDrive-Fanshawec.ca/Capstone/Dataset/merged_data.csv')\n",
    "merged_data.head()"
   ]
  },
  {
   "cell_type": "markdown",
   "metadata": {},
   "source": [
    "# 2. Feature Engineering"
   ]
  },
  {
   "cell_type": "code",
   "execution_count": 11,
   "metadata": {},
   "outputs": [],
   "source": [
    "# One-hot encoding categorical columns ( encoding to categorical variables)\n",
    "encoded_data = pd.get_dummies(merged_data, columns=['home_ownership', 'emp_length'])\n",
    "\n",
    "# Splitting data and scaling features (split our data into training and test sets and scale, to normalizing data)\n",
    "X = encoded_data.drop(columns=['label']) \n",
    "y = merged_data['label']\n",
    "X_train, X_test, y_train, y_test = train_test_split(X, y, test_size=0.2, random_state=42)\n",
    "scaler = StandardScaler()\n",
    "X_train_scaled = scaler.fit_transform(X_train)\n",
    "X_test_scaled = scaler.transform(X_test)\n",
    "\n",
    "\n",
    "# Handle NaN values\n",
    "if np.isnan(X_train_scaled).any():\n",
    "    nan_columns = np.where(np.isnan(X_train_scaled).any(axis=0))[0]\n",
    "    for col in nan_columns:\n",
    "        col_mean = np.nanmean(X_train_scaled[:, col])\n",
    "        X_train_scaled[np.isnan(X_train_scaled[:, col]), col] = col_mean\n",
    "        X_test_scaled[np.isnan(X_test_scaled[:, col]), col] = col_mean"
   ]
  },
  {
   "cell_type": "markdown",
   "metadata": {},
   "source": [
    "# 3. Model Training and Evaluation"
   ]
  },
  {
   "cell_type": "code",
   "execution_count": 12,
   "metadata": {},
   "outputs": [],
   "source": [
    "# Train logistic regression model\n",
    "classifier = LogisticRegression(max_iter=1000, random_state=42)\n",
    "classifier.fit(X_train_scaled, y_train)\n",
    "\n",
    "# Evaluate model\n",
    "y_pred = classifier.predict(X_test_scaled)\n",
    "mse = mean_squared_error(y_test, y_pred)"
   ]
  },
  {
   "cell_type": "markdown",
   "metadata": {},
   "source": [
    "# 4. Return value to the user"
   ]
  },
  {
   "cell_type": "code",
   "execution_count": 13,
   "metadata": {},
   "outputs": [
    {
     "name": "stdout",
     "output_type": "stream",
     "text": [
      "Generated user with:\n",
      "Home Ownership: RENT\n",
      "Annual Income: $83962.57\n",
      "Loan Amount: $8912.23\n",
      "DTI: 74.16%\n",
      "Employment Length: 9 years\n",
      "\n",
      "Prediction: Loan ACCEPTED\n"
     ]
    }
   ],
   "source": [
    "def generate_random_user_predict(classifier, X_train, scaler):\n",
    "    \"\"\"Generate a random example of a new user and predict loan acceptance.\"\"\"\n",
    "    \n",
    "    # Randomly select values for each feature\n",
    "    home_ownership = np.random.choice(['MORTGAGE', 'RENT', 'OWN'])\n",
    "    annual_inc = np.random.uniform(20000, 150000)  # Random income between 20k and 150k\n",
    "    loan_amnt = np.random.uniform(500, 40000)  # Random loan amount between $500 and $40k\n",
    "    dti = np.random.uniform(0.1, 0.9)  # Random dti between 10% and 90%\n",
    "    emp_length = np.random.choice(['< 1 year', '1 year', '2 years', '3 years', '4 years', '5 years',\n",
    "                                   '6 years', '7 years', '8 years', '9 years', '10+ years'])\n",
    "    \n",
    "    # Creating a DataFrame for the user\n",
    "    user_data = pd.DataFrame({\n",
    "        'home_ownership': [home_ownership],\n",
    "        'annual_inc': [annual_inc],\n",
    "        'loan_amnt': [loan_amnt],\n",
    "        'dti': [dti],\n",
    "        'emp_length': [emp_length]\n",
    "    })\n",
    "    \n",
    "    # One-hot encoding\n",
    "    user_encoded = pd.get_dummies(user_data, columns=['home_ownership', 'emp_length'])\n",
    "    \n",
    "    # Ensuring the user_encoded has all the columns that the model expects\n",
    "    # If not, they're filled with zeros (because of one-hot encoding)\n",
    "    missing_cols = set(X_train.columns) - set(user_encoded.columns)\n",
    "    for col in missing_cols:\n",
    "        user_encoded[col] = 0\n",
    "    user_encoded = user_encoded[X_train.columns]\n",
    "    \n",
    "    # Scaling the user data\n",
    "    user_scaled = scaler.transform(user_encoded)\n",
    "    \n",
    "    # Making prediction\n",
    "    prediction = classifier.predict(user_scaled)\n",
    "    \n",
    "    # Printing/Returning the result\n",
    "    if prediction[0] == 1:\n",
    "        print(f\"\"\"Generated user with:\n",
    "Home Ownership: {home_ownership}\n",
    "Annual Income: ${annual_inc:.2f}\n",
    "Loan Amount: ${loan_amnt:.2f}\n",
    "DTI: {dti*100:.2f}%\n",
    "Employment Length: {emp_length}\n",
    "\n",
    "Prediction: Loan ACCEPTED\"\"\")\n",
    "    else:\n",
    "        print(f\"\"\"Generated user with:\n",
    "Home Ownership: {home_ownership}\n",
    "Annual Income: ${annual_inc:.2f}\n",
    "Loan Amount: ${loan_amnt:.2f}\n",
    "DTI: {dti*100:.2f}%\n",
    "Employment Length: {emp_length}\n",
    "\n",
    "Prediction: Loan REJECTED\"\"\")\n",
    "\n",
    "# Calling the function\n",
    "generate_random_user_predict(classifier, X_train, scaler)"
   ]
  },
  {
   "cell_type": "markdown",
   "metadata": {},
   "source": [
    "# Convert to pickle file to deploy"
   ]
  },
  {
   "cell_type": "code",
   "execution_count": 14,
   "metadata": {},
   "outputs": [],
   "source": [
    "with open('model.pkl', 'wb') as file:\n",
    "    pickle.dump(classifier, file)"
   ]
  }
 ],
 "metadata": {
  "kernelspec": {
   "display_name": "Python 3",
   "language": "python",
   "name": "python3"
  },
  "language_info": {
   "codemirror_mode": {
    "name": "ipython",
    "version": 3
   },
   "file_extension": ".py",
   "mimetype": "text/x-python",
   "name": "python",
   "nbconvert_exporter": "python",
   "pygments_lexer": "ipython3",
   "version": "3.10.11"
  }
 },
 "nbformat": 4,
 "nbformat_minor": 2
}
