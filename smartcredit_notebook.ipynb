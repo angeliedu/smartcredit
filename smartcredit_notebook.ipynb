{
  "cells": [
    {
      "cell_type": "markdown",
      "source": [
        "### Create handle to workspace"
      ],
      "metadata": {
        "nteract": {
          "transient": {
            "deleting": false
          }
        }
      }
    },
    {
      "cell_type": "code",
      "source": [
        "import pandas as pd\n",
        "from azure.ai.ml import MLClient\n",
        "from azure.identity import DefaultAzureCredential\n",
        "from azure.ai.ml.entities import Data\n",
        "from azure.ai.ml.constants import AssetTypes\n",
        "\n",
        "# authenticate\n",
        "credential = DefaultAzureCredential()\n",
        "\n",
        "# Get a handle to the workspace\n",
        "ml_client = MLClient(\n",
        "    credential=credential,\n",
        "    subscription_id=\"91b522a4-4851-4a71-8909-1acedddd997b\",\n",
        "    resource_group_name=\"smart_credit\",\n",
        "    workspace_name=\"smartcreditwkspc\",\n",
        ")"
      ],
      "outputs": [],
      "execution_count": 1,
      "metadata": {
        "gather": {
          "logged": 1701061415479
        }
      }
    },
    {
      "cell_type": "markdown",
      "source": [
        "### Upload data to cloud storage"
      ],
      "metadata": {
        "nteract": {
          "transient": {
            "deleting": false
          }
        }
      }
    },
    {
      "cell_type": "code",
      "source": [
        "# Load data\n",
        "rejected_data = pd.read_csv('https://smartcreditstrage.blob.core.windows.net/smartcontainer/rejected_2007_to_2018Q4.csv')\n",
        "accepted_data = pd.read_csv('https://smartcreditstrage.blob.core.windows.net/smartcontainer/accepted_2007_to_2018Q4.csv')\n",
        "    \n",
        "\n",
        "# Label datasets: 1 for accepted and 0 for rejected\n",
        "accepted_data['label'] = 1\n",
        "rejected_data['label'] = 0\n",
        "\n",
        "# Rename columns in rejected dataset to match accepted dataset\n",
        "rejected_data.rename(columns={'Amount Requested': 'loan_amnt', 'Debt-To-Income Ratio': 'dti'}, inplace=True)\n",
        "\n",
        "# Select and align columns for merging\n",
        "selected_columns = ['home_ownership', 'annual_inc', 'loan_amnt', 'dti', 'emp_length', 'label']\n",
        "for column in selected_columns:\n",
        "    if column not in rejected_data.columns:\n",
        "        rejected_data[column] = None\n",
        "\n",
        "# Merge datasets\n",
        "merged_data = pd.concat([accepted_data[selected_columns], rejected_data[selected_columns]], axis=0).reset_index(drop=True)\n"
      ],
      "outputs": [
        {
          "output_type": "stream",
          "name": "stderr",
          "text": "/tmp/ipykernel_8539/1112644896.py:3: DtypeWarning: Columns (0,19,49,59,118,129,130,131,134,135,136,139,145,146,147) have mixed types. Specify dtype option on import or set low_memory=False.\n  accepted_data = pd.read_csv('https://smartcreditstrage.blob.core.windows.net/smartcontainer/accepted_2007_to_2018Q4.csv')\n"
        }
      ],
      "execution_count": 2,
      "metadata": {
        "jupyter": {
          "source_hidden": false,
          "outputs_hidden": false
        },
        "nteract": {
          "transient": {
            "deleting": false
          }
        },
        "gather": {
          "logged": 1701061592902
        }
      }
    },
    {
      "cell_type": "markdown",
      "source": [
        "## Preprocessing"
      ],
      "metadata": {
        "nteract": {
          "transient": {
            "deleting": false
          }
        }
      }
    },
    {
      "cell_type": "code",
      "source": [
        "# Handle missing values\n",
        "merged_data.dropna(how='all', inplace=True)\n",
        "\n",
        "for column in ['home_ownership', 'emp_length']:\n",
        "    merged_data[column].fillna(merged_data[column].mode()[0], inplace=True)\n",
        "for column in ['annual_inc', 'loan_amnt']:\n",
        "    merged_data[column].fillna(merged_data[column].median(), inplace=True)\n",
        "\n",
        "# Convert dti values to numerical format and handle missing values\n",
        "merged_data['dti'] = pd.to_numeric(merged_data['dti'], errors='coerce')\n",
        "merged_data['dti'].fillna(merged_data['dti'].median(), inplace=True)\n",
        "merged_data.head()"
      ],
      "outputs": [
        {
          "output_type": "execute_result",
          "execution_count": 3,
          "data": {
            "text/plain": "  home_ownership  annual_inc  loan_amnt    dti emp_length  label\n0       MORTGAGE     55000.0     3600.0   5.91  10+ years      1\n1       MORTGAGE     65000.0    24700.0  16.06  10+ years      1\n2       MORTGAGE     63000.0    20000.0  10.78  10+ years      1\n3       MORTGAGE    110000.0    35000.0  17.06  10+ years      1\n4       MORTGAGE    104433.0    10400.0  25.37    3 years      1",
            "text/html": "<div>\n<style scoped>\n    .dataframe tbody tr th:only-of-type {\n        vertical-align: middle;\n    }\n\n    .dataframe tbody tr th {\n        vertical-align: top;\n    }\n\n    .dataframe thead th {\n        text-align: right;\n    }\n</style>\n<table border=\"1\" class=\"dataframe\">\n  <thead>\n    <tr style=\"text-align: right;\">\n      <th></th>\n      <th>home_ownership</th>\n      <th>annual_inc</th>\n      <th>loan_amnt</th>\n      <th>dti</th>\n      <th>emp_length</th>\n      <th>label</th>\n    </tr>\n  </thead>\n  <tbody>\n    <tr>\n      <th>0</th>\n      <td>MORTGAGE</td>\n      <td>55000.0</td>\n      <td>3600.0</td>\n      <td>5.91</td>\n      <td>10+ years</td>\n      <td>1</td>\n    </tr>\n    <tr>\n      <th>1</th>\n      <td>MORTGAGE</td>\n      <td>65000.0</td>\n      <td>24700.0</td>\n      <td>16.06</td>\n      <td>10+ years</td>\n      <td>1</td>\n    </tr>\n    <tr>\n      <th>2</th>\n      <td>MORTGAGE</td>\n      <td>63000.0</td>\n      <td>20000.0</td>\n      <td>10.78</td>\n      <td>10+ years</td>\n      <td>1</td>\n    </tr>\n    <tr>\n      <th>3</th>\n      <td>MORTGAGE</td>\n      <td>110000.0</td>\n      <td>35000.0</td>\n      <td>17.06</td>\n      <td>10+ years</td>\n      <td>1</td>\n    </tr>\n    <tr>\n      <th>4</th>\n      <td>MORTGAGE</td>\n      <td>104433.0</td>\n      <td>10400.0</td>\n      <td>25.37</td>\n      <td>3 years</td>\n      <td>1</td>\n    </tr>\n  </tbody>\n</table>\n</div>"
          },
          "metadata": {}
        }
      ],
      "execution_count": 3,
      "metadata": {
        "jupyter": {
          "source_hidden": false,
          "outputs_hidden": false
        },
        "nteract": {
          "transient": {
            "deleting": false
          }
        },
        "gather": {
          "logged": 1701061615754
        }
      }
    },
    {
      "cell_type": "code",
      "source": [
        "import os\n",
        "import argparse\n",
        "import mlflow\n",
        "import mlflow.sklearn\n",
        "from sklearn.ensemble import GradientBoostingClassifier\n",
        "from sklearn.metrics import classification_report\n",
        "from sklearn.model_selection import train_test_split\n",
        "import numpy as np\n",
        "from sklearn.preprocessing import LabelEncoder, StandardScaler\n",
        "from sklearn.linear_model import LogisticRegression\n",
        "from sklearn.metrics import mean_squared_error\n",
        "import joblib\n",
        "from azureml.core import Experiment, Workspace"
      ],
      "outputs": [],
      "execution_count": 4,
      "metadata": {
        "jupyter": {
          "source_hidden": false,
          "outputs_hidden": false
        },
        "nteract": {
          "transient": {
            "deleting": false
          }
        },
        "gather": {
          "logged": 1701061776467
        }
      }
    },
    {
      "cell_type": "code",
      "source": [
        "\n",
        "label_encoder=LabelEncoder()\n",
        "merged_data['home_ownership'] = label_encoder.fit_transform(merged_data['home_ownership'])\n",
        "merged_data['emp_length'] = label_encoder.fit_transform(merged_data['emp_length'])\n",
        "\n",
        "merged_data.head()"
      ],
      "outputs": [
        {
          "output_type": "execute_result",
          "execution_count": 5,
          "data": {
            "text/plain": "   annual_inc  loan_amnt    dti  label  home_ownership_ANY  \\\n0     55000.0     3600.0   5.91      1               False   \n1     65000.0    24700.0  16.06      1               False   \n2     63000.0    20000.0  10.78      1               False   \n3    110000.0    35000.0  17.06      1               False   \n4    104433.0    10400.0  25.37      1               False   \n\n   home_ownership_MORTGAGE  home_ownership_NONE  home_ownership_OTHER  \\\n0                     True                False                 False   \n1                     True                False                 False   \n2                     True                False                 False   \n3                     True                False                 False   \n4                     True                False                 False   \n\n   home_ownership_OWN  home_ownership_RENT  ...  emp_length_10+ years  \\\n0               False                False  ...                  True   \n1               False                False  ...                  True   \n2               False                False  ...                  True   \n3               False                False  ...                  True   \n4               False                False  ...                 False   \n\n   emp_length_2 years  emp_length_3 years  emp_length_4 years  \\\n0               False               False               False   \n1               False               False               False   \n2               False               False               False   \n3               False               False               False   \n4               False                True               False   \n\n   emp_length_5 years  emp_length_6 years  emp_length_7 years  \\\n0               False               False               False   \n1               False               False               False   \n2               False               False               False   \n3               False               False               False   \n4               False               False               False   \n\n   emp_length_8 years  emp_length_9 years  emp_length_< 1 year  \n0               False               False                False  \n1               False               False                False  \n2               False               False                False  \n3               False               False                False  \n4               False               False                False  \n\n[5 rows x 21 columns]",
            "text/html": "<div>\n<style scoped>\n    .dataframe tbody tr th:only-of-type {\n        vertical-align: middle;\n    }\n\n    .dataframe tbody tr th {\n        vertical-align: top;\n    }\n\n    .dataframe thead th {\n        text-align: right;\n    }\n</style>\n<table border=\"1\" class=\"dataframe\">\n  <thead>\n    <tr style=\"text-align: right;\">\n      <th></th>\n      <th>annual_inc</th>\n      <th>loan_amnt</th>\n      <th>dti</th>\n      <th>label</th>\n      <th>home_ownership_ANY</th>\n      <th>home_ownership_MORTGAGE</th>\n      <th>home_ownership_NONE</th>\n      <th>home_ownership_OTHER</th>\n      <th>home_ownership_OWN</th>\n      <th>home_ownership_RENT</th>\n      <th>...</th>\n      <th>emp_length_10+ years</th>\n      <th>emp_length_2 years</th>\n      <th>emp_length_3 years</th>\n      <th>emp_length_4 years</th>\n      <th>emp_length_5 years</th>\n      <th>emp_length_6 years</th>\n      <th>emp_length_7 years</th>\n      <th>emp_length_8 years</th>\n      <th>emp_length_9 years</th>\n      <th>emp_length_&lt; 1 year</th>\n    </tr>\n  </thead>\n  <tbody>\n    <tr>\n      <th>0</th>\n      <td>55000.0</td>\n      <td>3600.0</td>\n      <td>5.91</td>\n      <td>1</td>\n      <td>False</td>\n      <td>True</td>\n      <td>False</td>\n      <td>False</td>\n      <td>False</td>\n      <td>False</td>\n      <td>...</td>\n      <td>True</td>\n      <td>False</td>\n      <td>False</td>\n      <td>False</td>\n      <td>False</td>\n      <td>False</td>\n      <td>False</td>\n      <td>False</td>\n      <td>False</td>\n      <td>False</td>\n    </tr>\n    <tr>\n      <th>1</th>\n      <td>65000.0</td>\n      <td>24700.0</td>\n      <td>16.06</td>\n      <td>1</td>\n      <td>False</td>\n      <td>True</td>\n      <td>False</td>\n      <td>False</td>\n      <td>False</td>\n      <td>False</td>\n      <td>...</td>\n      <td>True</td>\n      <td>False</td>\n      <td>False</td>\n      <td>False</td>\n      <td>False</td>\n      <td>False</td>\n      <td>False</td>\n      <td>False</td>\n      <td>False</td>\n      <td>False</td>\n    </tr>\n    <tr>\n      <th>2</th>\n      <td>63000.0</td>\n      <td>20000.0</td>\n      <td>10.78</td>\n      <td>1</td>\n      <td>False</td>\n      <td>True</td>\n      <td>False</td>\n      <td>False</td>\n      <td>False</td>\n      <td>False</td>\n      <td>...</td>\n      <td>True</td>\n      <td>False</td>\n      <td>False</td>\n      <td>False</td>\n      <td>False</td>\n      <td>False</td>\n      <td>False</td>\n      <td>False</td>\n      <td>False</td>\n      <td>False</td>\n    </tr>\n    <tr>\n      <th>3</th>\n      <td>110000.0</td>\n      <td>35000.0</td>\n      <td>17.06</td>\n      <td>1</td>\n      <td>False</td>\n      <td>True</td>\n      <td>False</td>\n      <td>False</td>\n      <td>False</td>\n      <td>False</td>\n      <td>...</td>\n      <td>True</td>\n      <td>False</td>\n      <td>False</td>\n      <td>False</td>\n      <td>False</td>\n      <td>False</td>\n      <td>False</td>\n      <td>False</td>\n      <td>False</td>\n      <td>False</td>\n    </tr>\n    <tr>\n      <th>4</th>\n      <td>104433.0</td>\n      <td>10400.0</td>\n      <td>25.37</td>\n      <td>1</td>\n      <td>False</td>\n      <td>True</td>\n      <td>False</td>\n      <td>False</td>\n      <td>False</td>\n      <td>False</td>\n      <td>...</td>\n      <td>False</td>\n      <td>False</td>\n      <td>True</td>\n      <td>False</td>\n      <td>False</td>\n      <td>False</td>\n      <td>False</td>\n      <td>False</td>\n      <td>False</td>\n      <td>False</td>\n    </tr>\n  </tbody>\n</table>\n<p>5 rows × 21 columns</p>\n</div>"
          },
          "metadata": {}
        }
      ],
      "execution_count": 5,
      "metadata": {
        "jupyter": {
          "source_hidden": false,
          "outputs_hidden": false
        },
        "nteract": {
          "transient": {
            "deleting": false
          }
        },
        "gather": {
          "logged": 1701061784900
        }
      }
    },
    {
      "cell_type": "markdown",
      "source": [
        "This code checks the data type of each column and converts the columns with boolean values to integers (1 for True and 0 for False)."
      ],
      "metadata": {
        "nteract": {
          "transient": {
            "deleting": false
          }
        }
      }
    },
    {
      "cell_type": "code",
      "source": [
        "# Shuffle the DataFrame\n",
        "merged_data_shuffled = merged_data.sample(frac=1, random_state=42)  # Setting a random seed for reproducibility\n",
        "\n",
        "# Reset the index of the shuffled DataFrame\n",
        "merged_data_shuffled = merged_data_shuffled.reset_index(drop=True)"
      ],
      "outputs": [],
      "execution_count": 7,
      "metadata": {
        "jupyter": {
          "source_hidden": false,
          "outputs_hidden": false
        },
        "nteract": {
          "transient": {
            "deleting": false
          }
        },
        "gather": {
          "logged": 1701061840740
        }
      }
    },
    {
      "cell_type": "code",
      "source": [
        "# Splitting data into test and train\n",
        "\n",
        "X = merged_data_shuffled.drop(columns=['label']) \n",
        "Y = merged_data_shuffled['label']\n",
        "X_train, X_test, y_train, y_test = train_test_split(X, Y, test_size=0.2, random_state=42)"
      ],
      "outputs": [],
      "execution_count": 8,
      "metadata": {
        "jupyter": {
          "source_hidden": false,
          "outputs_hidden": false
        },
        "nteract": {
          "transient": {
            "deleting": false
          }
        },
        "gather": {
          "logged": 1701061864326
        }
      }
    },
    {
      "cell_type": "code",
      "source": [
        "print(X_train[:5])"
      ],
      "outputs": [
        {
          "output_type": "stream",
          "name": "stdout",
          "text": "          annual_inc  loan_amnt    dti  home_ownership_ANY  \\\n1032342      65000.0    22000.0  17.84                   0   \n5041893      65000.0     3300.0  17.84                   0   \n8100913      65000.0    30000.0  17.84                   0   \n6503001      65000.0     5000.0  17.84                   0   \n28753842     65000.0    15000.0  17.84                   0   \n\n          home_ownership_MORTGAGE  home_ownership_NONE  home_ownership_OTHER  \\\n1032342                         1                    0                     0   \n5041893                         1                    0                     0   \n8100913                         1                    0                     0   \n6503001                         1                    0                     0   \n28753842                        1                    0                     0   \n\n          home_ownership_OWN  home_ownership_RENT  emp_length_1 year  \\\n1032342                    0                    0                  0   \n5041893                    0                    0                  0   \n8100913                    0                    0                  0   \n6503001                    0                    0                  0   \n28753842                   0                    0                  0   \n\n          emp_length_10+ years  emp_length_2 years  emp_length_3 years  \\\n1032342                      1                   0                   0   \n5041893                      1                   0                   0   \n8100913                      1                   0                   0   \n6503001                      1                   0                   0   \n28753842                     1                   0                   0   \n\n          emp_length_4 years  emp_length_5 years  emp_length_6 years  \\\n1032342                    0                   0                   0   \n5041893                    0                   0                   0   \n8100913                    0                   0                   0   \n6503001                    0                   0                   0   \n28753842                   0                   0                   0   \n\n          emp_length_7 years  emp_length_8 years  emp_length_9 years  \\\n1032342                    0                   0                   0   \n5041893                    0                   0                   0   \n8100913                    0                   0                   0   \n6503001                    0                   0                   0   \n28753842                   0                   0                   0   \n\n          emp_length_< 1 year  \n1032342                     0  \n5041893                     0  \n8100913                     0  \n6503001                     0  \n28753842                    0  \n"
        }
      ],
      "execution_count": 9,
      "metadata": {
        "jupyter": {
          "source_hidden": false,
          "outputs_hidden": false
        },
        "nteract": {
          "transient": {
            "deleting": false
          }
        },
        "gather": {
          "logged": 1701061878200
        }
      }
    },
    {
      "cell_type": "code",
      "source": [
        "# set name for logging\n",
        "mlflow.set_experiment(\"Smart credit\")\n",
        "# enable autologging with MLflow\n",
        "mlflow.sklearn.autolog()"
      ],
      "outputs": [],
      "execution_count": 11,
      "metadata": {
        "jupyter": {
          "source_hidden": false,
          "outputs_hidden": false
        },
        "nteract": {
          "transient": {
            "deleting": false
          }
        },
        "gather": {
          "logged": 1701061922166
        }
      }
    },
    {
      "cell_type": "code",
      "source": [
        "# 3. Model Training and Evaluation\n",
        "\n",
        "# Train logistic regression model\n",
        "\n",
        "mlflow.start_run()\n",
        "\n",
        "classifier = LogisticRegression(max_iter=1000, random_state=42)\n",
        "classifier.fit(X_train, y_train)\n",
        "\n",
        "# Evaluate model\n",
        "y_pred = classifier.predict(X_test)\n",
        "\n",
        "print(classification_report(y_test, y_pred))\n",
        "# Stop logging for this model\n",
        "mlflow.end_run()"
      ],
      "outputs": [
        {
          "output_type": "stream",
          "name": "stderr",
          "text": "2023/11/27 04:19:37 WARNING mlflow.sklearn: Failed to log training dataset information to MLflow Tracking. Reason: 'Series' object has no attribute 'flatten'\n"
        },
        {
          "output_type": "stream",
          "name": "stdout",
          "text": "              precision    recall  f1-score   support\n\n           0       0.99      1.00      0.99   5530092\n           1       1.00      0.87      0.93    451797\n\n    accuracy                           0.99   5981889\n   macro avg       0.99      0.93      0.96   5981889\nweighted avg       0.99      0.99      0.99   5981889\n\n"
        }
      ],
      "execution_count": 15,
      "metadata": {
        "jupyter": {
          "source_hidden": false,
          "outputs_hidden": false
        },
        "nteract": {
          "transient": {
            "deleting": false
          }
        },
        "gather": {
          "logged": 1701062661913
        }
      }
    },
    {
      "cell_type": "code",
      "source": [
        "# Train Gradient Boosting Classifier\n",
        "\n",
        "mlflow.start_run()\n",
        "clf = GradientBoostingClassifier(n_estimators=100, learning_rate=0.1)\n",
        "clf.fit(X_train, y_train)\n",
        "\n",
        "y_pred = clf.predict(X_test)\n",
        "\n",
        "print(classification_report(y_test, y_pred))\n",
        "# Stop logging for this model\n",
        "mlflow.end_run()"
      ],
      "outputs": [
        {
          "output_type": "stream",
          "name": "stderr",
          "text": "2023/11/27 04:26:30 WARNING mlflow.sklearn: Failed to log training dataset information to MLflow Tracking. Reason: 'Series' object has no attribute 'flatten'\n"
        }
      ],
      "execution_count": 16,
      "metadata": {
        "jupyter": {
          "source_hidden": false,
          "outputs_hidden": false
        },
        "nteract": {
          "transient": {
            "deleting": false
          }
        }
      }
    },
    {
      "cell_type": "code",
      "source": [
        "# Train  AdaBoost Classifier\n",
        "from sklearn.ensemble import AdaBoostClassifier\n",
        "\n",
        "mlflow.start_run()\n",
        "ada = AdaBoostClassifier()\n",
        "\n",
        "ada.fit(X_train, y_train)\n",
        "\n",
        "y_pred = ada.predict(X_test)\n",
        "\n",
        "print(classification_report(y_test, y_pred))\n",
        "# Stop logging for this model\n",
        "mlflow.end_run()"
      ],
      "outputs": [],
      "execution_count": null,
      "metadata": {
        "jupyter": {
          "source_hidden": false,
          "outputs_hidden": false
        },
        "nteract": {
          "transient": {
            "deleting": false
          }
        }
      }
    },
    {
      "cell_type": "markdown",
      "source": [
        "home_ownership : 'MORTGAGE', 'RENT', 'OWN'\n",
        "annual_inc = np.random.uniform(20000, 150000)  # Random income between 20k and 150k\n",
        "loan_amnt = np.random.uniform(500, 40000)  # Random loan amount between $500 and $40k\n",
        "dti = np.random.uniform(0.1, 0.9)  # Random dti between 10% and 90%\n",
        "emp_length = np.random.choice(['< 1 year', '1 year', '2 years', '3 years', '4 years', '5 years'\n",
        ",6 years', '7 years', '8 years', '9 years', '10+ years'])"
      ],
      "metadata": {
        "nteract": {
          "transient": {
            "deleting": false
          }
        }
      }
    }
  ],
  "metadata": {
    "kernelspec": {
      "name": "python310-sdkv2",
      "language": "python",
      "display_name": "Python 3.10 - SDK v2"
    },
    "language_info": {
      "name": "python",
      "version": "3.10.11",
      "mimetype": "text/x-python",
      "codemirror_mode": {
        "name": "ipython",
        "version": 3
      },
      "pygments_lexer": "ipython3",
      "nbconvert_exporter": "python",
      "file_extension": ".py"
    },
    "microsoft": {
      "ms_spell_check": {
        "ms_spell_check_language": "en"
      },
      "host": {
        "AzureML": {
          "notebookHasBeenCompleted": true
        }
      }
    },
    "kernel_info": {
      "name": "python310-sdkv2"
    },
    "nteract": {
      "version": "nteract-front-end@1.0.0"
    }
  },
  "nbformat": 4,
  "nbformat_minor": 2
}