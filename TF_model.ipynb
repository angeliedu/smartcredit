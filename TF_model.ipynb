{
 "cells": [
  {
   "cell_type": "code",
   "execution_count": 8,
   "metadata": {},
   "outputs": [],
   "source": [
    "# Importing necessary libraries\n",
    "import pandas as pd\n",
    "import numpy as np\n",
    "import tensorflow as tf\n",
    "import random\n",
    "from tensorflow.keras.models import Sequential\n",
    "from tensorflow.keras.layers import Dense\n",
    "from tensorflow.keras.optimizers.legacy import Adam"
   ]
  },
  {
   "cell_type": "markdown",
   "metadata": {},
   "source": [
    "\n",
    "# 1. Data Loading \n"
   ]
  },
  {
   "cell_type": "code",
   "execution_count": 9,
   "metadata": {},
   "outputs": [
    {
     "data": {
      "text/html": [
       "<div>\n",
       "<style scoped>\n",
       "    .dataframe tbody tr th:only-of-type {\n",
       "        vertical-align: middle;\n",
       "    }\n",
       "\n",
       "    .dataframe tbody tr th {\n",
       "        vertical-align: top;\n",
       "    }\n",
       "\n",
       "    .dataframe thead th {\n",
       "        text-align: right;\n",
       "    }\n",
       "</style>\n",
       "<table border=\"1\" class=\"dataframe\">\n",
       "  <thead>\n",
       "    <tr style=\"text-align: right;\">\n",
       "      <th></th>\n",
       "      <th>home_ownership</th>\n",
       "      <th>annual_inc</th>\n",
       "      <th>loan_amnt</th>\n",
       "      <th>dti</th>\n",
       "      <th>emp_length</th>\n",
       "      <th>label</th>\n",
       "    </tr>\n",
       "  </thead>\n",
       "  <tbody>\n",
       "    <tr>\n",
       "      <th>0</th>\n",
       "      <td>MORTGAGE</td>\n",
       "      <td>55000.0</td>\n",
       "      <td>3600.0</td>\n",
       "      <td>0.1998</td>\n",
       "      <td>10+ years</td>\n",
       "      <td>1</td>\n",
       "    </tr>\n",
       "    <tr>\n",
       "      <th>1</th>\n",
       "      <td>MORTGAGE</td>\n",
       "      <td>65000.0</td>\n",
       "      <td>24700.0</td>\n",
       "      <td>0.1998</td>\n",
       "      <td>10+ years</td>\n",
       "      <td>1</td>\n",
       "    </tr>\n",
       "    <tr>\n",
       "      <th>2</th>\n",
       "      <td>MORTGAGE</td>\n",
       "      <td>63000.0</td>\n",
       "      <td>20000.0</td>\n",
       "      <td>0.1998</td>\n",
       "      <td>10+ years</td>\n",
       "      <td>1</td>\n",
       "    </tr>\n",
       "    <tr>\n",
       "      <th>3</th>\n",
       "      <td>MORTGAGE</td>\n",
       "      <td>110000.0</td>\n",
       "      <td>35000.0</td>\n",
       "      <td>0.1998</td>\n",
       "      <td>10+ years</td>\n",
       "      <td>1</td>\n",
       "    </tr>\n",
       "    <tr>\n",
       "      <th>4</th>\n",
       "      <td>MORTGAGE</td>\n",
       "      <td>104433.0</td>\n",
       "      <td>10400.0</td>\n",
       "      <td>0.1998</td>\n",
       "      <td>3 years</td>\n",
       "      <td>1</td>\n",
       "    </tr>\n",
       "  </tbody>\n",
       "</table>\n",
       "</div>"
      ],
      "text/plain": [
       "  home_ownership  annual_inc  loan_amnt     dti emp_length  label\n",
       "0       MORTGAGE     55000.0     3600.0  0.1998  10+ years      1\n",
       "1       MORTGAGE     65000.0    24700.0  0.1998  10+ years      1\n",
       "2       MORTGAGE     63000.0    20000.0  0.1998  10+ years      1\n",
       "3       MORTGAGE    110000.0    35000.0  0.1998  10+ years      1\n",
       "4       MORTGAGE    104433.0    10400.0  0.1998    3 years      1"
      ]
     },
     "execution_count": 9,
     "metadata": {},
     "output_type": "execute_result"
    }
   ],
   "source": [
    "# Load datasets\n",
    "merged_data = pd.read_csv('/Users/eduardoangeli/Library/CloudStorage/OneDrive-Fanshawec.ca/Capstone/Dataset/merged_data.csv')\n",
    "merged_data.head()"
   ]
  },
  {
   "cell_type": "markdown",
   "metadata": {},
   "source": [
    "# 2. Feature Engineering"
   ]
  },
  {
   "cell_type": "code",
   "execution_count": 10,
   "metadata": {},
   "outputs": [],
   "source": [
    "# One-hot encoding categorical columns ( encoding to categorical variables)\n",
    "encoded_data = pd.get_dummies(merged_data, columns=['home_ownership', 'emp_length'])\n",
    "\n",
    "# Splitting data and scaling features (split our data into training and test sets and scale, to normalizing data)\n",
    "X = encoded_data.drop(columns=['label']) \n",
    "y = merged_data['label']\n",
    "\n",
    "X = X.to_numpy()  # Convert to NumPy array if X is a DataFrame\n",
    "y = y.to_numpy()  # Convert to NumPy array if y is a DataFrame\n",
    "\n",
    "# Shuffle the data\n",
    "indices = np.arange(X.shape[0])\n",
    "np.random.shuffle(indices)\n",
    "X_shuffled = X[indices]\n",
    "y_shuffled = y[indices]\n",
    "\n",
    "# Calculate the split index\n",
    "test_size = 0.2  # 20% for testing\n",
    "split_index = int(X.shape[0] * (1 - test_size))\n",
    "\n",
    "# Split the data\n",
    "X_train, X_test = X_shuffled[:split_index], X_shuffled[split_index:]\n",
    "y_train, y_test = y_shuffled[:split_index], y_shuffled[split_index:]"
   ]
  },
  {
   "cell_type": "markdown",
   "metadata": {},
   "source": [
    "# 3. Model Training and Evaluation"
   ]
  },
  {
   "cell_type": "code",
   "execution_count": 11,
   "metadata": {},
   "outputs": [],
   "source": [
    "#Convert the Data Types\n",
    "X_train = X_train.astype('float32')\n",
    "X_test = X_test.astype('float32')\n",
    "y_train = y_train.astype('float32')\n",
    "y_test = y_test.astype('float32')"
   ]
  },
  {
   "cell_type": "code",
   "execution_count": 12,
   "metadata": {},
   "outputs": [
    {
     "name": "stdout",
     "output_type": "stream",
     "text": [
      "True True False False\n"
     ]
    }
   ],
   "source": [
    "# Check for NaN values\n",
    "print(np.isnan(X_train).any(), np.isnan(X_test).any(), np.isnan(y_train).any(), np.isnan(y_test).any())"
   ]
  },
  {
   "cell_type": "code",
   "execution_count": 13,
   "metadata": {},
   "outputs": [],
   "source": [
    "# Replace NaN values if they exist\n",
    "X_train = np.nan_to_num(X_train)\n",
    "X_test = np.nan_to_num(X_test)"
   ]
  },
  {
   "cell_type": "code",
   "execution_count": 14,
   "metadata": {},
   "outputs": [
    {
     "name": "stdout",
     "output_type": "stream",
     "text": [
      "Epoch 1/10\n",
      "747737/747737 [==============================] - 246s 328us/step - loss: 14.2122 - accuracy: 0.9554 - val_loss: 12.6519 - val_accuracy: 0.9837\n",
      "Epoch 2/10\n",
      "747737/747737 [==============================] - 246s 330us/step - loss: 13.9854 - accuracy: 0.9719 - val_loss: 13.5652 - val_accuracy: 0.9847\n",
      "Epoch 3/10\n",
      "747737/747737 [==============================] - 247s 330us/step - loss: 14.6348 - accuracy: 0.9748 - val_loss: 41.1702 - val_accuracy: 0.8459\n",
      "Epoch 4/10\n",
      "747737/747737 [==============================] - 249s 333us/step - loss: 15.2022 - accuracy: 0.9762 - val_loss: 101.7309 - val_accuracy: 0.9561\n",
      "Epoch 5/10\n",
      "747737/747737 [==============================] - 244s 327us/step - loss: 15.6185 - accuracy: 0.9772 - val_loss: 6.2804 - val_accuracy: 0.9920\n",
      "Epoch 6/10\n",
      "747737/747737 [==============================] - 250s 334us/step - loss: 16.0402 - accuracy: 0.9777 - val_loss: 6.4788 - val_accuracy: 0.9919\n",
      "Epoch 7/10\n",
      "747737/747737 [==============================] - 250s 334us/step - loss: 16.3419 - accuracy: 0.9782 - val_loss: 6.5930 - val_accuracy: 0.9921\n",
      "Epoch 8/10\n",
      "747737/747737 [==============================] - 247s 331us/step - loss: 16.9579 - accuracy: 0.9785 - val_loss: 7.2574 - val_accuracy: 0.9917\n",
      "Epoch 9/10\n",
      "747737/747737 [==============================] - 245s 328us/step - loss: 16.8919 - accuracy: 0.9788 - val_loss: 8.1891 - val_accuracy: 0.9914\n",
      "Epoch 10/10\n",
      "747737/747737 [==============================] - 244s 326us/step - loss: 17.0567 - accuracy: 0.9790 - val_loss: 8.8835 - val_accuracy: 0.9912\n"
     ]
    },
    {
     "data": {
      "text/plain": [
       "<keras.src.callbacks.History at 0x28c029780>"
      ]
     },
     "execution_count": 14,
     "metadata": {},
     "output_type": "execute_result"
    }
   ],
   "source": [
    "# Model building using TensorFlow\n",
    "model = Sequential()\n",
    "model.add(Dense(1, activation='sigmoid', input_shape=(X_train.shape[1],)))\n",
    "\n",
    "# Compile the model\n",
    "model.compile(optimizer=Adam(learning_rate=0.01), loss='binary_crossentropy', metrics=['accuracy'])\n",
    "\n",
    "# Train the model\n",
    "model.fit(X_train, y_train, epochs=10, batch_size=32, validation_data=(X_test, y_test))"
   ]
  },
  {
   "cell_type": "markdown",
   "metadata": {},
   "source": [
    "# 4. Return value to the user"
   ]
  },
  {
   "cell_type": "code",
   "execution_count": 15,
   "metadata": {},
   "outputs": [
    {
     "name": "stdout",
     "output_type": "stream",
     "text": [
      "Generated user with:\n",
      "Home Ownership: MORTGAGE\n",
      "Annual Income: $120858.45\n",
      "Loan Amount: $16371.13\n",
      "DTI: 34.65%\n",
      "Employment Length: 4 years\n",
      "\n",
      "Prediction: Loan ACCEPTED\n"
     ]
    }
   ],
   "source": [
    "def generate_random_user_and_predict():\n",
    "    # Define possible values for categorical features\n",
    "    home_ownerships = ['MORTGAGE', 'RENT', 'OWN']\n",
    "    emp_lengths = ['< 1 year', '1 year', '2 years', '3 years', '4 years', '5 years', \n",
    "                   '6 years', '7 years', '8 years', '9 years', '10+ years']\n",
    "\n",
    "    # Randomly select values for each feature\n",
    "    home_ownership = random.choice(home_ownerships)\n",
    "    annual_inc = random.uniform(20000, 150000)  # Random income between 20k and 150k\n",
    "    loan_amnt = random.uniform(500, 40000)  # Random loan amount between $500 and $40k\n",
    "    dti = random.uniform(0.1, 0.9)  # Random DTI between 10% and 90%\n",
    "    emp_length = random.choice(emp_lengths)\n",
    "\n",
    "    # Create a dictionary for the user\n",
    "    user_data = {\n",
    "        'home_ownership': home_ownership,\n",
    "        'annual_inc': annual_inc,\n",
    "        'loan_amnt': loan_amnt,\n",
    "        'dti': dti,\n",
    "        'emp_length': emp_length\n",
    "    }\n",
    "\n",
    "    # Convert to a DataFrame\n",
    "    user_df = pd.DataFrame([user_data])\n",
    "\n",
    "    # One-hot encoding for categorical features\n",
    "    user_encoded = pd.get_dummies(user_df, columns=['home_ownership', 'emp_length'])\n",
    "\n",
    "    # TODO: Add any necessary scaling or further processing here\n",
    "\n",
    "    # Mock prediction (randomly assigning acceptance or rejection)\n",
    "    prediction = random.choice([0, 1])\n",
    "\n",
    "    # Output based on the mock prediction\n",
    "    if prediction == 1:\n",
    "        print(f\"\"\"Generated user with:\n",
    "Home Ownership: {home_ownership}\n",
    "Annual Income: ${annual_inc:.2f}\n",
    "Loan Amount: ${loan_amnt:.2f}\n",
    "DTI: {dti*100:.2f}%\n",
    "Employment Length: {emp_length}\n",
    "\n",
    "Prediction: Loan ACCEPTED\"\"\")\n",
    "    else:\n",
    "        print(f\"\"\"Generated user with:\n",
    "Home Ownership: {home_ownership}\n",
    "Annual Income: ${annual_inc:.2f}\n",
    "Loan Amount: ${loan_amnt:.2f}\n",
    "DTI: {dti*100:.2f}%\n",
    "Employment Length: {emp_length}\n",
    "\n",
    "Prediction: Loan REJECTED\"\"\")\n",
    "\n",
    "# Example usage\n",
    "generate_random_user_and_predict()\n"
   ]
  },
  {
   "cell_type": "markdown",
   "metadata": {},
   "source": [
    "# Save the model for conversion"
   ]
  },
  {
   "cell_type": "code",
   "execution_count": 16,
   "metadata": {},
   "outputs": [
    {
     "name": "stderr",
     "output_type": "stream",
     "text": [
      "/Library/Frameworks/Python.framework/Versions/3.10/lib/python3.10/site-packages/keras/src/engine/training.py:3103: UserWarning: You are saving your model as an HDF5 file via `model.save()`. This file format is considered legacy. We recommend using instead the native Keras format, e.g. `model.save('my_model.keras')`.\n",
      "  saving_api.save_model(\n"
     ]
    }
   ],
   "source": [
    "# Save the model for deployment on the cloud\n",
    "model.save('/Users/eduardoangeli/Documents/GitHub/smartcredit/TF_Model.h5')\n"
   ]
  }
 ],
 "metadata": {
  "kernelspec": {
   "display_name": "Python 3",
   "language": "python",
   "name": "python3"
  },
  "language_info": {
   "codemirror_mode": {
    "name": "ipython",
    "version": 3
   },
   "file_extension": ".py",
   "mimetype": "text/x-python",
   "name": "python",
   "nbconvert_exporter": "python",
   "pygments_lexer": "ipython3",
   "version": "3.10.11"
  }
 },
 "nbformat": 4,
 "nbformat_minor": 2
}
