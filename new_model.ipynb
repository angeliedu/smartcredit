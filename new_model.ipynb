{
 "cells": [
  {
   "cell_type": "code",
   "execution_count": 1,
   "metadata": {},
   "outputs": [],
   "source": [
    "# Importing necessary libraries\n",
    "import pandas as pd\n",
    "import numpy as np\n",
    "from sklearn.model_selection import train_test_split\n",
    "from sklearn.preprocessing import StandardScaler\n",
    "from sklearn.linear_model import LogisticRegression\n",
    "from sklearn.metrics import mean_squared_error\n",
    "import matplotlib.pyplot as plt"
   ]
  },
  {
   "cell_type": "markdown",
   "metadata": {},
   "source": [
    "\n",
    "# 1. Data Loading and Preprocessing\n"
   ]
  },
  {
   "cell_type": "code",
   "execution_count": 2,
   "metadata": {},
   "outputs": [
    {
     "name": "stderr",
     "output_type": "stream",
     "text": [
      "/var/folders/r6/9sr46wnj2jnbq3yrgp4bf0c80000gn/T/ipykernel_3078/3903412836.py:3: DtypeWarning: Columns (0,19,49,59,118,129,130,131,134,135,136,139,145,146,147) have mixed types. Specify dtype option on import or set low_memory=False.\n",
      "  accepted_data = pd.read_csv('/Users/eduardoangeli/Desktop/Capstone/Dataset/accepted_2007_to_2018q4.csv/accepted_2007_to_2018Q4.csv')\n"
     ]
    }
   ],
   "source": [
    "# Load datasets\n",
    "rejected_data = pd.read_csv('/Users/eduardoangeli/Desktop/Capstone/Dataset/rejected_2007_to_2018q4.csv/rejected_2007_to_2018Q4.csv')\n",
    "accepted_data = pd.read_csv('/Users/eduardoangeli/Desktop/Capstone/Dataset/accepted_2007_to_2018q4.csv/accepted_2007_to_2018Q4.csv')\n",
    "\n",
    "\n",
    "# Label datasets: 1 for accepted and 0 for rejected\n",
    "accepted_data['label'] = 1\n",
    "rejected_data['label'] = 0\n",
    "\n",
    "# Rename columns in rejected dataset to match accepted dataset\n",
    "rejected_data.rename(columns={'Amount Requested': 'loan_amnt', 'Debt-To-Income Ratio': 'dti'}, inplace=True)\n",
    "\n",
    "# Select and align columns for merging\n",
    "selected_columns = ['home_ownership', 'annual_inc', 'loan_amnt', 'dti', 'emp_length', 'label']\n",
    "for column in selected_columns:\n",
    "    if column not in rejected_data.columns:\n",
    "        rejected_data[column] = None\n",
    "\n",
    "# Merge datasets\n",
    "merged_data = pd.concat([accepted_data[selected_columns], rejected_data[selected_columns]], axis=0).reset_index(drop=True)\n",
    "\n",
    "# Handle missing values\n",
    "for column in ['home_ownership', 'emp_length']:\n",
    "    merged_data[column].fillna(merged_data[column].mode()[0], inplace=True)\n",
    "for column in ['annual_inc']:\n",
    "    merged_data[column].fillna(merged_data[column].median(), inplace=True)\n",
    "\n",
    "# Convert dti values to numerical format and handle missing values\n",
    "merged_data['dti'] = merged_data['dti'].str.rstrip('%').astype('float') / 100.0\n",
    "merged_data['dti'].fillna(merged_data['dti'].median(), inplace=True)"
   ]
  },
  {
   "cell_type": "markdown",
   "metadata": {},
   "source": [
    "# 2. Feature Engineering"
   ]
  },
  {
   "cell_type": "code",
   "execution_count": 3,
   "metadata": {},
   "outputs": [],
   "source": [
    "# One-hot encoding categorical columns ( encoding to categorical variables)\n",
    "encoded_data = pd.get_dummies(merged_data, columns=['home_ownership', 'emp_length'])\n",
    "\n",
    "# Splitting data and scaling features (split our data into training and test sets and scale, to normalizing data)\n",
    "X = encoded_data.drop(columns=['label']) \n",
    "y = merged_data['label']\n",
    "X_train, X_test, y_train, y_test = train_test_split(X, y, test_size=0.2, random_state=42)\n",
    "scaler = StandardScaler()\n",
    "X_train_scaled = scaler.fit_transform(X_train)\n",
    "X_test_scaled = scaler.transform(X_test)\n",
    "\n",
    "\n",
    "# Handle NaN values\n",
    "if np.isnan(X_train_scaled).any():\n",
    "    nan_columns = np.where(np.isnan(X_train_scaled).any(axis=0))[0]\n",
    "    for col in nan_columns:\n",
    "        col_mean = np.nanmean(X_train_scaled[:, col])\n",
    "        X_train_scaled[np.isnan(X_train_scaled[:, col]), col] = col_mean\n",
    "        X_test_scaled[np.isnan(X_test_scaled[:, col]), col] = col_mean"
   ]
  },
  {
   "cell_type": "markdown",
   "metadata": {},
   "source": [
    "# 3. Model Training and Evaluation"
   ]
  },
  {
   "cell_type": "code",
   "execution_count": 4,
   "metadata": {},
   "outputs": [],
   "source": [
    "# Train logistic regression model\n",
    "classifier = LogisticRegression(max_iter=1000, random_state=42)\n",
    "classifier.fit(X_train_scaled, y_train)\n",
    "\n",
    "# Evaluate model\n",
    "y_pred = classifier.predict(X_test_scaled)\n",
    "mse = mean_squared_error(y_test, y_pred)"
   ]
  },
  {
   "cell_type": "markdown",
   "metadata": {},
   "source": [
    "# 4. Return value to the user"
   ]
  },
  {
   "cell_type": "code",
   "execution_count": 5,
   "metadata": {},
   "outputs": [
    {
     "name": "stdout",
     "output_type": "stream",
     "text": [
      "Generated user with:\n",
      "Home Ownership: MORTGAGE\n",
      "Annual Income: $77039.02\n",
      "Loan Amount: $3184.65\n",
      "DTI: 84.35%\n",
      "Employment Length: 10+ years\n",
      "\n",
      "Prediction: Loan REJECTED\n"
     ]
    }
   ],
   "source": [
    "def generate_random_user_predict(classifier, X_train, scaler):\n",
    "    \"\"\"Generate a random example of a new user and predict loan acceptance.\"\"\"\n",
    "    \n",
    "    # Randomly select values for each feature\n",
    "    home_ownership = np.random.choice(['MORTGAGE', 'RENT', 'OWN'])\n",
    "    annual_inc = np.random.uniform(20000, 150000)  # Random income between 20k and 150k\n",
    "    loan_amnt = np.random.uniform(500, 40000)  # Random loan amount between $500 and $40k\n",
    "    dti = np.random.uniform(0.1, 0.9)  # Random dti between 10% and 90%\n",
    "    emp_length = np.random.choice(['< 1 year', '1 year', '2 years', '3 years', '4 years', '5 years',\n",
    "                                   '6 years', '7 years', '8 years', '9 years', '10+ years'])\n",
    "    \n",
    "    # Creating a DataFrame for the user\n",
    "    user_data = pd.DataFrame({\n",
    "        'home_ownership': [home_ownership],\n",
    "        'annual_inc': [annual_inc],\n",
    "        'loan_amnt': [loan_amnt],\n",
    "        'dti': [dti],\n",
    "        'emp_length': [emp_length]\n",
    "    })\n",
    "    \n",
    "    # One-hot encoding\n",
    "    user_encoded = pd.get_dummies(user_data, columns=['home_ownership', 'emp_length'])\n",
    "    \n",
    "    # Ensuring the user_encoded has all the columns that the model expects\n",
    "    # If not, they're filled with zeros (because of one-hot encoding)\n",
    "    missing_cols = set(X_train.columns) - set(user_encoded.columns)\n",
    "    for col in missing_cols:\n",
    "        user_encoded[col] = 0\n",
    "    user_encoded = user_encoded[X_train.columns]\n",
    "    \n",
    "    # Scaling the user data\n",
    "    user_scaled = scaler.transform(user_encoded)\n",
    "    \n",
    "    # Making prediction\n",
    "    prediction = classifier.predict(user_scaled)\n",
    "    \n",
    "    # Printing/Returning the result\n",
    "    if prediction[0] == 1:\n",
    "        print(f\"\"\"Generated user with:\n",
    "Home Ownership: {home_ownership}\n",
    "Annual Income: ${annual_inc:.2f}\n",
    "Loan Amount: ${loan_amnt:.2f}\n",
    "DTI: {dti*100:.2f}%\n",
    "Employment Length: {emp_length}\n",
    "\n",
    "Prediction: Loan ACCEPTED\"\"\")\n",
    "    else:\n",
    "        print(f\"\"\"Generated user with:\n",
    "Home Ownership: {home_ownership}\n",
    "Annual Income: ${annual_inc:.2f}\n",
    "Loan Amount: ${loan_amnt:.2f}\n",
    "DTI: {dti*100:.2f}%\n",
    "Employment Length: {emp_length}\n",
    "\n",
    "Prediction: Loan REJECTED\"\"\")\n",
    "\n",
    "# Calling the function\n",
    "generate_random_user_predict(classifier, X_train, scaler)"
   ]
  }
 ],
 "metadata": {
  "kernelspec": {
   "display_name": "Python 3",
   "language": "python",
   "name": "python3"
  },
  "language_info": {
   "codemirror_mode": {
    "name": "ipython",
    "version": 3
   },
   "file_extension": ".py",
   "mimetype": "text/x-python",
   "name": "python",
   "nbconvert_exporter": "python",
   "pygments_lexer": "ipython3",
   "version": "3.10.11"
  }
 },
 "nbformat": 4,
 "nbformat_minor": 2
}
